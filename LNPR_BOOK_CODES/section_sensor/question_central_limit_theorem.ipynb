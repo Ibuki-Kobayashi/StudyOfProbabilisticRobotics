{
 "cells": [
  {
   "cell_type": "code",
   "execution_count": 1,
   "metadata": {},
   "outputs": [
    {
     "data": {
      "text/plain": [
       "[1, 2, 3, 4, 5, 6]"
      ]
     },
     "execution_count": 1,
     "metadata": {},
     "output_type": "execute_result"
    }
   ],
   "source": [
    "dice= [1,2,3,4,5,6]\n",
    "dice"
   ]
  },
  {
   "cell_type": "code",
   "execution_count": 2,
   "metadata": {},
   "outputs": [],
   "source": [
    "import random\n",
    "\n",
    "def sensor_value(): \n",
    "    noise = sum([ random.choice(dice) for i in range(10)]) #10回サイコロを振って値を足す\n",
    "    return 200 + noise"
   ]
  },
  {
   "cell_type": "code",
   "execution_count": 3,
   "metadata": {},
   "outputs": [
    {
     "data": {
      "text/plain": [
       "0       231\n",
       "1       236\n",
       "2       245\n",
       "3       237\n",
       "4       237\n",
       "       ... \n",
       "9995    234\n",
       "9996    236\n",
       "9997    231\n",
       "9998    242\n",
       "9999    236\n",
       "Name: sensor, Length: 10000, dtype: int64"
      ]
     },
     "execution_count": 3,
     "metadata": {},
     "output_type": "execute_result"
    }
   ],
   "source": [
    "import pandas as pd\n",
    "\n",
    "df = pd.DataFrame([sensor_value() for i in range(10000)],columns=[\"sensor\"])\n",
    "df[\"sensor\"]"
   ]
  },
  {
   "cell_type": "code",
   "execution_count": 4,
   "metadata": {},
   "outputs": [
    {
     "data": {
      "image/png": "[encoded data removed]",
      "text/plain": [
       "<Figure size 640x480 with 1 Axes>"
      ]
     },
     "metadata": {},
     "output_type": "display_data"
    }
   ],
   "source": [
    "import matplotlib.pyplot as plt\n",
    "df.hist(bins = max(df[\"sensor\"]) - min(df[\"sensor\"]),align='left')\n",
    "plt.show()"
   ]
  },
  {
   "cell_type": "code",
   "execution_count": 5,
   "metadata": {},
   "outputs": [],
   "source": [
    "# サイコロの平均と分散（計算でも求まりますがここは乱数から）\n",
    "df[\"dice\"] = [ random.choice(dice) for i in range(10000) ]"
   ]
  },
  {
   "cell_type": "code",
   "execution_count": 6,
   "metadata": {},
   "outputs": [
    {
     "name": "stdout",
     "output_type": "stream",
     "text": [
      "平均: 3.4843\n",
      "分散: 2.9078442944294434\n"
     ]
    }
   ],
   "source": [
    "mean_dice = df[\"dice\"].mean()\n",
    "var_dice = df[\"dice\"].var()\n",
    "print(\"平均: \" + str(mean_dice))\n",
    "print(\"分散: \" + str(var_dice))"
   ]
  },
  {
   "cell_type": "code",
   "execution_count": 7,
   "metadata": {},
   "outputs": [
    {
     "name": "stdout",
     "output_type": "stream",
     "text": [
      "平均: 235.1063\n",
      "分散: 29.68056836683668\n"
     ]
    }
   ],
   "source": [
    "# センサ値の平均と分散\n",
    "mean_sensor = df[\"sensor\"].mean()\n",
    "var_sensor = df[\"sensor\"].var()\n",
    "print(\"平均: \" + str(mean_sensor))\n",
    "print(\"分散: \" + str(var_sensor))"
   ]
  },
  {
   "cell_type": "code",
   "execution_count": 8,
   "metadata": {},
   "outputs": [
    {
     "data": {
      "text/plain": [
       "np.float64(200.26330000000002)"
      ]
     },
     "execution_count": 8,
     "metadata": {},
     "output_type": "execute_result"
    }
   ],
   "source": [
    "# センサ値の平均からサイコロを10回振ったときの期待値を引くと、最初に足した200になる\n",
    "mean_sensor - mean_dice*10"
   ]
  },
  {
   "cell_type": "code",
   "execution_count": 9,
   "metadata": {},
   "outputs": [
    {
     "data": {
      "text/plain": [
       "np.float64(0.6021254225422474)"
      ]
     },
     "execution_count": 9,
     "metadata": {},
     "output_type": "execute_result"
    }
   ],
   "source": [
    "# センサ値の分散は、サイコロを10回振ったので10倍に近い値になる\n",
    "var_sensor - var_dice*10"
   ]
  },
  {
   "cell_type": "code",
   "execution_count": null,
   "metadata": {},
   "outputs": [],
   "source": []
  }
 ],
 "metadata": {
  "kernelspec": {
   "display_name": "Python 3",
   "language": "python",
   "name": "python3"
  },
  "language_info": {
   "codemirror_mode": {
    "name": "ipython",
    "version": 3
   },
   "file_extension": ".py",
   "mimetype": "text/x-python",
   "name": "python",
   "nbconvert_exporter": "python",
   "pygments_lexer": "ipython3",
   "version": "3.12.8"
  }
 },
 "nbformat": 4,
 "nbformat_minor": 2
}
